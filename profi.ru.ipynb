{
 "cells": [
  {
   "cell_type": "markdown",
   "metadata": {},
   "source": [
    "# Задание 1: функция удаления дубликатов в списке\n"
   ]
  },
  {
   "cell_type": "code",
   "execution_count": 1,
   "metadata": {},
   "outputs": [],
   "source": [
    "from random import seed, sample\n",
    "import matplotlib.pyplot as plt\n",
    "import pandas as pd\n",
    "import numpy as np\n",
    "import unittest\n",
    "import doctest\n",
    "import sqlite3"
   ]
  },
  {
   "cell_type": "code",
   "execution_count": 2,
   "metadata": {},
   "outputs": [],
   "source": [
    "def del_duplicates(the_list):\n",
    "    '''\n",
    "        \n",
    "    >>> del_duplicates([1,3,4,2,3,5])\n",
    "    [1, 3, 4, 2, 5]\n",
    "    \n",
    "    >>> del_duplicates([1,3,4,2,3,5])\n",
    "    [1, 4, 2, 5]\n",
    "    \n",
    "    >>> del_duplicates([1,3,4,2,3,5])\n",
    "        [1, 3, 4, 2, 5]\n",
    "        \n",
    "    >>> del_duplicates([1,3,4,2,'3',5])\n",
    "    [1, 3, 4, 2, '3', 5]\n",
    "    \n",
    "    '''   \n",
    "    new_list = []\n",
    "    \n",
    "    for element in the_list:\n",
    "        \n",
    "        if element not in new_list:\n",
    "            new_list.append(element)\n",
    "            \n",
    "        else:\n",
    "            continue\n",
    "        \n",
    "    return new_list\n",
    "\n"
   ]
  },
  {
   "cell_type": "code",
   "execution_count": 3,
   "metadata": {},
   "outputs": [
    {
     "name": "stdout",
     "output_type": "stream",
     "text": [
      "Trying:\n",
      "    del_duplicates([1,3,4,2,3,5])\n",
      "Expecting:\n",
      "    [1, 3, 4, 2, 5]\n",
      "ok\n",
      "Trying:\n",
      "    del_duplicates([1,3,4,2,3,5])\n",
      "Expecting:\n",
      "    [1, 4, 2, 5]\n",
      "**********************************************************************\n",
      "File \"__main__\", line 7, in __main__.del_duplicates\n",
      "Failed example:\n",
      "    del_duplicates([1,3,4,2,3,5])\n",
      "Expected:\n",
      "    [1, 4, 2, 5]\n",
      "Got:\n",
      "    [1, 3, 4, 2, 5]\n",
      "Trying:\n",
      "    del_duplicates([1,3,4,2,3,5])\n",
      "Expecting:\n",
      "        [1, 3, 4, 2, 5]\n",
      "**********************************************************************\n",
      "File \"__main__\", line 10, in __main__.del_duplicates\n",
      "Failed example:\n",
      "    del_duplicates([1,3,4,2,3,5])\n",
      "Expected:\n",
      "        [1, 3, 4, 2, 5]\n",
      "Got:\n",
      "    [1, 3, 4, 2, 5]\n",
      "Trying:\n",
      "    del_duplicates([1,3,4,2,'3',5])\n",
      "Expecting:\n",
      "    [1, 3, 4, 2, '3', 5]\n",
      "ok\n",
      "1 items had no tests:\n",
      "    __main__\n",
      "**********************************************************************\n",
      "1 items had failures:\n",
      "   2 of   4 in __main__.del_duplicates\n",
      "4 tests in 2 items.\n",
      "2 passed and 2 failed.\n",
      "***Test Failed*** 2 failures.\n"
     ]
    },
    {
     "data": {
      "text/plain": [
       "TestResults(failed=2, attempted=4)"
      ]
     },
     "execution_count": 3,
     "metadata": {},
     "output_type": "execute_result"
    }
   ],
   "source": [
    "doctest.testmod(verbose=True)"
   ]
  },
  {
   "cell_type": "markdown",
   "metadata": {},
   "source": [
    "Функция работает для любых типов данных, при этом элементы int('5') и '5' считаются разными."
   ]
  },
  {
   "cell_type": "code",
   "execution_count": 4,
   "metadata": {},
   "outputs": [
    {
     "data": {
      "text/plain": [
       "['1', '2', '3', 2, '4']"
      ]
     },
     "execution_count": 4,
     "metadata": {},
     "output_type": "execute_result"
    }
   ],
   "source": [
    "del_duplicates(['1','2','3',2,'4',2,'1'])"
   ]
  },
  {
   "cell_type": "code",
   "execution_count": 5,
   "metadata": {},
   "outputs": [
    {
     "name": "stderr",
     "output_type": "stream",
     "text": [
      "test_del_duplicate (__main__.TestNotebook) ... ok\n",
      "\n",
      "----------------------------------------------------------------------\n",
      "Ran 1 test in 0.001s\n",
      "\n",
      "OK\n"
     ]
    },
    {
     "data": {
      "text/plain": [
       "<unittest.main.TestProgram at 0x11a90e0a0>"
      ]
     },
     "execution_count": 5,
     "metadata": {},
     "output_type": "execute_result"
    }
   ],
   "source": [
    "class TestNotebook(unittest.TestCase):\n",
    "    \n",
    "    def test_del_duplicate(self):\n",
    "        self.assertEqual(del_duplicates([1,2,4,3,2]),[1,2,4,3])\n",
    "        self.assertEqual(del_duplicates([1,3,2,2,1]),[1,3,2])\n",
    "        self.assertEqual(del_duplicates(['2',2,2.0]),['2',2,])\n",
    "        \n",
    "unittest.main(argv=[''],verbosity=2,exit=False)"
   ]
  },
  {
   "cell_type": "markdown",
   "metadata": {},
   "source": [
    "# Описание рассуждений по определению асимптотической сложности алгоритма смотрите в pdf файле\n"
   ]
  },
  {
   "cell_type": "code",
   "execution_count": 6,
   "metadata": {},
   "outputs": [],
   "source": [
    "def alg_complexity(n):\n",
    "    \n",
    "    sumation = 0\n",
    "    \n",
    "    for i in range(1, n+1):\n",
    "        sumation += (i-1)\n",
    "        \n",
    "    print('Отношение вычисленной сложности к нижней границе асимптотической сложности (n^2)/2: ', (sumation+n)/((n**2)/2))\n",
    "            \n",
    "    print('Вычислительная сложность в худшем случае: ', (sumation+n))\n",
    "    \n",
    "    return sumation+n\n",
    "\n"
   ]
  },
  {
   "cell_type": "code",
   "execution_count": 7,
   "metadata": {},
   "outputs": [
    {
     "name": "stdout",
     "output_type": "stream",
     "text": [
      "Отношение вычисленной сложности к нижней границе асимптотической сложности (n^2)/2:  1.002\n",
      "Вычислительная сложность в худшем случае:  125250\n",
      "Отношение вычисленной сложности к нижней границе асимптотической сложности (n^2)/2:  1.000001\n",
      "Вычислительная сложность в худшем случае:  500000500000\n"
     ]
    },
    {
     "data": {
      "text/plain": [
       "500000500000"
      ]
     },
     "execution_count": 7,
     "metadata": {},
     "output_type": "execute_result"
    }
   ],
   "source": [
    "alg_complexity(500)\n",
    "alg_complexity(1000000)\n"
   ]
  },
  {
   "cell_type": "code",
   "execution_count": 8,
   "metadata": {},
   "outputs": [],
   "source": [
    "list_n = list(range(100000,1000000,50000))\n",
    "\n",
    "\n"
   ]
  },
  {
   "cell_type": "code",
   "execution_count": 9,
   "metadata": {},
   "outputs": [],
   "source": [
    "df = pd.DataFrame()"
   ]
  },
  {
   "cell_type": "code",
   "execution_count": 10,
   "metadata": {},
   "outputs": [],
   "source": [
    "df['n'] = list_n"
   ]
  },
  {
   "cell_type": "code",
   "execution_count": 11,
   "metadata": {},
   "outputs": [
    {
     "data": {
      "text/html": [
       "<div>\n",
       "<style scoped>\n",
       "    .dataframe tbody tr th:only-of-type {\n",
       "        vertical-align: middle;\n",
       "    }\n",
       "\n",
       "    .dataframe tbody tr th {\n",
       "        vertical-align: top;\n",
       "    }\n",
       "\n",
       "    .dataframe thead th {\n",
       "        text-align: right;\n",
       "    }\n",
       "</style>\n",
       "<table border=\"1\" class=\"dataframe\">\n",
       "  <thead>\n",
       "    <tr style=\"text-align: right;\">\n",
       "      <th></th>\n",
       "      <th>n</th>\n",
       "    </tr>\n",
       "  </thead>\n",
       "  <tbody>\n",
       "    <tr>\n",
       "      <th>0</th>\n",
       "      <td>100000</td>\n",
       "    </tr>\n",
       "    <tr>\n",
       "      <th>1</th>\n",
       "      <td>150000</td>\n",
       "    </tr>\n",
       "    <tr>\n",
       "      <th>2</th>\n",
       "      <td>200000</td>\n",
       "    </tr>\n",
       "    <tr>\n",
       "      <th>3</th>\n",
       "      <td>250000</td>\n",
       "    </tr>\n",
       "    <tr>\n",
       "      <th>4</th>\n",
       "      <td>300000</td>\n",
       "    </tr>\n",
       "    <tr>\n",
       "      <th>5</th>\n",
       "      <td>350000</td>\n",
       "    </tr>\n",
       "    <tr>\n",
       "      <th>6</th>\n",
       "      <td>400000</td>\n",
       "    </tr>\n",
       "    <tr>\n",
       "      <th>7</th>\n",
       "      <td>450000</td>\n",
       "    </tr>\n",
       "    <tr>\n",
       "      <th>8</th>\n",
       "      <td>500000</td>\n",
       "    </tr>\n",
       "    <tr>\n",
       "      <th>9</th>\n",
       "      <td>550000</td>\n",
       "    </tr>\n",
       "    <tr>\n",
       "      <th>10</th>\n",
       "      <td>600000</td>\n",
       "    </tr>\n",
       "    <tr>\n",
       "      <th>11</th>\n",
       "      <td>650000</td>\n",
       "    </tr>\n",
       "    <tr>\n",
       "      <th>12</th>\n",
       "      <td>700000</td>\n",
       "    </tr>\n",
       "    <tr>\n",
       "      <th>13</th>\n",
       "      <td>750000</td>\n",
       "    </tr>\n",
       "    <tr>\n",
       "      <th>14</th>\n",
       "      <td>800000</td>\n",
       "    </tr>\n",
       "    <tr>\n",
       "      <th>15</th>\n",
       "      <td>850000</td>\n",
       "    </tr>\n",
       "    <tr>\n",
       "      <th>16</th>\n",
       "      <td>900000</td>\n",
       "    </tr>\n",
       "    <tr>\n",
       "      <th>17</th>\n",
       "      <td>950000</td>\n",
       "    </tr>\n",
       "  </tbody>\n",
       "</table>\n",
       "</div>"
      ],
      "text/plain": [
       "         n\n",
       "0   100000\n",
       "1   150000\n",
       "2   200000\n",
       "3   250000\n",
       "4   300000\n",
       "5   350000\n",
       "6   400000\n",
       "7   450000\n",
       "8   500000\n",
       "9   550000\n",
       "10  600000\n",
       "11  650000\n",
       "12  700000\n",
       "13  750000\n",
       "14  800000\n",
       "15  850000\n",
       "16  900000\n",
       "17  950000"
      ]
     },
     "execution_count": 11,
     "metadata": {},
     "output_type": "execute_result"
    }
   ],
   "source": [
    "df"
   ]
  },
  {
   "cell_type": "code",
   "execution_count": 12,
   "metadata": {},
   "outputs": [
    {
     "name": "stdout",
     "output_type": "stream",
     "text": [
      "Отношение вычисленной сложности к нижней границе асимптотической сложности (n^2)/2:  1.00001\n",
      "Вычислительная сложность в худшем случае:  5000050000\n",
      "Отношение вычисленной сложности к нижней границе асимптотической сложности (n^2)/2:  1.0000066666666667\n",
      "Вычислительная сложность в худшем случае:  11250075000\n",
      "Отношение вычисленной сложности к нижней границе асимптотической сложности (n^2)/2:  1.000005\n",
      "Вычислительная сложность в худшем случае:  20000100000\n",
      "Отношение вычисленной сложности к нижней границе асимптотической сложности (n^2)/2:  1.000004\n",
      "Вычислительная сложность в худшем случае:  31250125000\n",
      "Отношение вычисленной сложности к нижней границе асимптотической сложности (n^2)/2:  1.0000033333333334\n",
      "Вычислительная сложность в худшем случае:  45000150000\n",
      "Отношение вычисленной сложности к нижней границе асимптотической сложности (n^2)/2:  1.0000028571428572\n",
      "Вычислительная сложность в худшем случае:  61250175000\n",
      "Отношение вычисленной сложности к нижней границе асимптотической сложности (n^2)/2:  1.0000025\n",
      "Вычислительная сложность в худшем случае:  80000200000\n",
      "Отношение вычисленной сложности к нижней границе асимптотической сложности (n^2)/2:  1.0000022222222222\n",
      "Вычислительная сложность в худшем случае:  101250225000\n",
      "Отношение вычисленной сложности к нижней границе асимптотической сложности (n^2)/2:  1.000002\n",
      "Вычислительная сложность в худшем случае:  125000250000\n",
      "Отношение вычисленной сложности к нижней границе асимптотической сложности (n^2)/2:  1.0000018181818182\n",
      "Вычислительная сложность в худшем случае:  151250275000\n",
      "Отношение вычисленной сложности к нижней границе асимптотической сложности (n^2)/2:  1.0000016666666667\n",
      "Вычислительная сложность в худшем случае:  180000300000\n",
      "Отношение вычисленной сложности к нижней границе асимптотической сложности (n^2)/2:  1.0000015384615384\n",
      "Вычислительная сложность в худшем случае:  211250325000\n",
      "Отношение вычисленной сложности к нижней границе асимптотической сложности (n^2)/2:  1.0000014285714285\n",
      "Вычислительная сложность в худшем случае:  245000350000\n",
      "Отношение вычисленной сложности к нижней границе асимптотической сложности (n^2)/2:  1.0000013333333333\n",
      "Вычислительная сложность в худшем случае:  281250375000\n",
      "Отношение вычисленной сложности к нижней границе асимптотической сложности (n^2)/2:  1.00000125\n",
      "Вычислительная сложность в худшем случае:  320000400000\n",
      "Отношение вычисленной сложности к нижней границе асимптотической сложности (n^2)/2:  1.0000011764705883\n",
      "Вычислительная сложность в худшем случае:  361250425000\n",
      "Отношение вычисленной сложности к нижней границе асимптотической сложности (n^2)/2:  1.0000011111111111\n",
      "Вычислительная сложность в худшем случае:  405000450000\n",
      "Отношение вычисленной сложности к нижней границе асимптотической сложности (n^2)/2:  1.000001052631579\n",
      "Вычислительная сложность в худшем случае:  451250475000\n"
     ]
    }
   ],
   "source": [
    "df['real_complexity'] = df['n'].apply(lambda x: alg_complexity(x))"
   ]
  },
  {
   "cell_type": "code",
   "execution_count": 13,
   "metadata": {},
   "outputs": [],
   "source": [
    "df['theta_complexity'] = df['n'].apply(lambda x: (x**2)/2)"
   ]
  },
  {
   "cell_type": "code",
   "execution_count": 14,
   "metadata": {},
   "outputs": [],
   "source": [
    "df['O_complexity_n_2'] = df['n'].apply(lambda x: (x**2))"
   ]
  },
  {
   "cell_type": "code",
   "execution_count": 15,
   "metadata": {},
   "outputs": [
    {
     "data": {
      "image/png": "[encoded data removed]",
      "text/plain": [
       "<Figure size 1080x720 with 1 Axes>"
      ]
     },
     "metadata": {
      "needs_background": "light"
     },
     "output_type": "display_data"
    }
   ],
   "source": [
    "fig, ax = plt.subplots(figsize=(15, 10))\n",
    "\n",
    "plt.plot(list(df['theta_complexity']),label=\"Нижняя граница\")\n",
    "plt.plot(list(df['O_complexity_n_2']),label=\"Верхняя граница\")\n",
    "plt.plot(list(df['real_complexity']),label=\"Сложность в худшем случае\")\n",
    "\n",
    "plt.legend(bbox_to_anchor=(1.05, 1), loc='upper left', borderaxespad=0.)\n",
    "\n",
    "plt.show()\n",
    "\n",
    "#Нижняя граница и сложгость в худшем случае почти сливаются в одну кривую\n"
   ]
  },
  {
   "cell_type": "code",
   "execution_count": 16,
   "metadata": {},
   "outputs": [
    {
     "data": {
      "image/png": "[encoded data removed]",
      "text/plain": [
       "<Figure size 720x720 with 1 Axes>"
      ]
     },
     "metadata": {
      "needs_background": "light"
     },
     "output_type": "display_data"
    }
   ],
   "source": [
    "fig, ax = plt.subplots(figsize=(10, 10))\n",
    "plt.plot(df['real_complexity']/df['theta_complexity'],label='Отношение рассчитаной сложности к нижней границе')\n",
    "plt.legend(bbox_to_anchor=(1.05, 1), loc='upper left', borderaxespad=0.)\n",
    "plt.show()"
   ]
  },
  {
   "cell_type": "markdown",
   "metadata": {},
   "source": [
    "# Написание SQL запроса\n"
   ]
  },
  {
   "cell_type": "code",
   "execution_count": 17,
   "metadata": {},
   "outputs": [
    {
     "data": {
      "text/plain": [
       "<sqlite3.Cursor at 0x11b35b0a0>"
      ]
     },
     "execution_count": 17,
     "metadata": {},
     "output_type": "execute_result"
    }
   ],
   "source": [
    "conn = sqlite3.connect(\"database.db\") \n",
    "cursor = conn.cursor()\n",
    " \n",
    "\n",
    "cursor.execute(\"\"\"CREATE TABLE employees \n",
    "                  (full_name text, position text, department text, PRIMARY KEY(full_name))\"\"\")"
   ]
  },
  {
   "cell_type": "code",
   "execution_count": 18,
   "metadata": {},
   "outputs": [],
   "source": [
    "employees = [('Ivanov I. A.', 'Software Developer', 'IT-services'),\n",
    "            ('Volkov A. A.', 'Software Developer', 'IT-services'),\n",
    "            ('Nazarova M. I.', 'Software Developer', 'IT-services'),\n",
    "            ('John Brown', 'Software Developer', 'IT-services'),\n",
    "            ('Elizabeth Willson', 'Software Developer', 'IT-services'),\n",
    "            ('Kanin A. I.', 'Software Developer', 'IT-services'),\n",
    "            ('Efimova U. A.', 'Designer', 'IT-services'),\n",
    "            ('Shevchenko D. S.', 'Data-Scientist', 'AI-Lab'),\n",
    "            ('Varlamova D. S.', 'Data-Scientist', 'AI-Lab'),\n",
    "            ('Kudryashov D. E.', 'Data-Engineer', 'AI-Lab'),\n",
    "            ('Kozlov A. E.', 'Software Developer', 'AI-Lab'),\n",
    "            ('Yudin V. E.', 'System Administrator', 'AI-Lab'),\n",
    "            ('Kerzhakov V. V.', 'Financier', 'Financial Department'),\n",
    "            ('Vavin V. V.', 'Financier', 'Financial Department'),\n",
    "            ('Lebedeva A. M.', 'Financier', 'Financial Department'),\n",
    "            ('Volodina A. M.', 'Financier', 'Financial Department')]\n",
    " \n",
    "cursor.executemany(\"INSERT INTO employees VALUES (?,?,?)\", employees)\n",
    "conn.commit()\n"
   ]
  },
  {
   "cell_type": "code",
   "execution_count": 19,
   "metadata": {},
   "outputs": [
    {
     "data": {
      "text/plain": [
       "<sqlite3.Cursor at 0x11b35b0a0>"
      ]
     },
     "execution_count": 19,
     "metadata": {},
     "output_type": "execute_result"
    }
   ],
   "source": [
    "\n",
    "query = \"\"\"SELECT \n",
    "                full_name,\n",
    "                position,\n",
    "                department,\n",
    "                count(position) OVER(PARTITION BY department) AS sum_pos\n",
    "                FROM employees\n",
    "            \"\"\"\n",
    "\n",
    "cursor.execute(query)"
   ]
  },
  {
   "cell_type": "code",
   "execution_count": 20,
   "metadata": {},
   "outputs": [
    {
     "data": {
      "text/plain": [
       "[('Shevchenko D. S.', 'Data-Scientist', 'AI-Lab', 5),\n",
       " ('Varlamova D. S.', 'Data-Scientist', 'AI-Lab', 5),\n",
       " ('Kudryashov D. E.', 'Data-Engineer', 'AI-Lab', 5),\n",
       " ('Kozlov A. E.', 'Software Developer', 'AI-Lab', 5),\n",
       " ('Yudin V. E.', 'System Administrator', 'AI-Lab', 5),\n",
       " ('Kerzhakov V. V.', 'Financier', 'Financial Department', 4),\n",
       " ('Vavin V. V.', 'Financier', 'Financial Department', 4),\n",
       " ('Lebedeva A. M.', 'Financier', 'Financial Department', 4),\n",
       " ('Volodina A. M.', 'Financier', 'Financial Department', 4),\n",
       " ('Ivanov I. A.', 'Software Developer', 'IT-services', 7),\n",
       " ('Volkov A. A.', 'Software Developer', 'IT-services', 7),\n",
       " ('Nazarova M. I.', 'Software Developer', 'IT-services', 7),\n",
       " ('John Brown', 'Software Developer', 'IT-services', 7),\n",
       " ('Elizabeth Willson', 'Software Developer', 'IT-services', 7),\n",
       " ('Kanin A. I.', 'Software Developer', 'IT-services', 7),\n",
       " ('Efimova U. A.', 'Designer', 'IT-services', 7)]"
      ]
     },
     "execution_count": 20,
     "metadata": {},
     "output_type": "execute_result"
    }
   ],
   "source": [
    "cursor.fetchall()"
   ]
  },
  {
   "cell_type": "code",
   "execution_count": 21,
   "metadata": {},
   "outputs": [
    {
     "data": {
      "text/plain": [
       "<sqlite3.Cursor at 0x11b35b0a0>"
      ]
     },
     "execution_count": 21,
     "metadata": {},
     "output_type": "execute_result"
    }
   ],
   "source": [
    "cursor.execute(\"\"\"CREATE TABLE employ_sum_pos \n",
    "                  (full_name text, position text, department text, sum_pos integer, PRIMARY KEY(full_name))\"\"\")"
   ]
  },
  {
   "cell_type": "code",
   "execution_count": 22,
   "metadata": {},
   "outputs": [
    {
     "data": {
      "text/plain": [
       "<sqlite3.Cursor at 0x11b35b0a0>"
      ]
     },
     "execution_count": 22,
     "metadata": {},
     "output_type": "execute_result"
    }
   ],
   "source": [
    "\n",
    "query = \"\"\"SELECT \n",
    "                full_name,\n",
    "                position,\n",
    "                department,\n",
    "                count(position) OVER(PARTITION BY department) AS sum_pos\n",
    "                FROM employees\n",
    "            \"\"\"\n",
    "\n",
    "cursor.execute(query)"
   ]
  },
  {
   "cell_type": "code",
   "execution_count": 23,
   "metadata": {},
   "outputs": [],
   "source": [
    "cursor.executemany(\"INSERT INTO employ_sum_pos VALUES (?,?,?,?)\", cursor.fetchall())\n",
    "conn.commit()"
   ]
  },
  {
   "cell_type": "code",
   "execution_count": 24,
   "metadata": {},
   "outputs": [
    {
     "data": {
      "text/plain": [
       "<sqlite3.Cursor at 0x11b35b0a0>"
      ]
     },
     "execution_count": 24,
     "metadata": {},
     "output_type": "execute_result"
    }
   ],
   "source": [
    "\n",
    "query1 = \"\"\"SELECT *\n",
    "                FROM employ_sum_pos \n",
    "            \"\"\"\n",
    "\n",
    "cursor.execute(query1)"
   ]
  },
  {
   "cell_type": "code",
   "execution_count": 25,
   "metadata": {},
   "outputs": [
    {
     "name": "stdout",
     "output_type": "stream",
     "text": [
      "[('Shevchenko D. S.', 'Data-Scientist', 'AI-Lab', 5), ('Varlamova D. S.', 'Data-Scientist', 'AI-Lab', 5), ('Kudryashov D. E.', 'Data-Engineer', 'AI-Lab', 5), ('Kozlov A. E.', 'Software Developer', 'AI-Lab', 5), ('Yudin V. E.', 'System Administrator', 'AI-Lab', 5), ('Kerzhakov V. V.', 'Financier', 'Financial Department', 4), ('Vavin V. V.', 'Financier', 'Financial Department', 4), ('Lebedeva A. M.', 'Financier', 'Financial Department', 4), ('Volodina A. M.', 'Financier', 'Financial Department', 4), ('Ivanov I. A.', 'Software Developer', 'IT-services', 7), ('Volkov A. A.', 'Software Developer', 'IT-services', 7), ('Nazarova M. I.', 'Software Developer', 'IT-services', 7), ('John Brown', 'Software Developer', 'IT-services', 7), ('Elizabeth Willson', 'Software Developer', 'IT-services', 7), ('Kanin A. I.', 'Software Developer', 'IT-services', 7), ('Efimova U. A.', 'Designer', 'IT-services', 7)]\n"
     ]
    }
   ],
   "source": [
    "print(cursor.fetchall())"
   ]
  },
  {
   "cell_type": "code",
   "execution_count": null,
   "metadata": {},
   "outputs": [],
   "source": []
  },
  {
   "cell_type": "code",
   "execution_count": 26,
   "metadata": {},
   "outputs": [
    {
     "data": {
      "text/plain": [
       "<sqlite3.Cursor at 0x11b35b0a0>"
      ]
     },
     "execution_count": 26,
     "metadata": {},
     "output_type": "execute_result"
    }
   ],
   "source": [
    "cursor.execute(\"\"\"CREATE TABLE employ_final \n",
    "                  (full_name text, position text, department text, sum_pos integer, sum_soft integer, PRIMARY KEY(full_name))\"\"\")"
   ]
  },
  {
   "cell_type": "code",
   "execution_count": 27,
   "metadata": {},
   "outputs": [
    {
     "data": {
      "text/plain": [
       "<sqlite3.Cursor at 0x11b35b0a0>"
      ]
     },
     "execution_count": 27,
     "metadata": {},
     "output_type": "execute_result"
    }
   ],
   "source": [
    "\n",
    "query2 = \"\"\"    SELECT \n",
    "                full_name,\n",
    "                position,\n",
    "                department,\n",
    "                sum_pos,\n",
    "                count(position) OVER(PARTITION BY department) AS not_soft\n",
    "                FROM employ_sum_pos WHERE position != 'Software Developer'\n",
    "            \"\"\"\n",
    "\n",
    "cursor.execute(query2)"
   ]
  },
  {
   "cell_type": "code",
   "execution_count": 28,
   "metadata": {},
   "outputs": [],
   "source": [
    "cursor.executemany(\"INSERT INTO employ_final VALUES (?,?,?,?,?)\", cursor.fetchall())\n",
    "conn.commit()"
   ]
  },
  {
   "cell_type": "code",
   "execution_count": 29,
   "metadata": {},
   "outputs": [
    {
     "data": {
      "text/plain": [
       "<sqlite3.Cursor at 0x11b35b0a0>"
      ]
     },
     "execution_count": 29,
     "metadata": {},
     "output_type": "execute_result"
    }
   ],
   "source": [
    "\n",
    "query3 = \"\"\"SELECT department, sum_pos-sum_soft\n",
    "                FROM employ_final WHERE(sum_pos-sum_soft<5) GROUP BY department\n",
    "            \"\"\"\n",
    "\n",
    "cursor.execute(query3)"
   ]
  },
  {
   "cell_type": "code",
   "execution_count": 30,
   "metadata": {},
   "outputs": [
    {
     "name": "stdout",
     "output_type": "stream",
     "text": [
      "[('AI-Lab', 1), ('Financial Department', 0)]\n"
     ]
    }
   ],
   "source": [
    "print(cursor.fetchall())"
   ]
  },
  {
   "cell_type": "code",
   "execution_count": null,
   "metadata": {},
   "outputs": [],
   "source": []
  }
 ],
 "metadata": {
  "kernelspec": {
   "display_name": "Python 3",
   "language": "python",
   "name": "python3"
  },
  "language_info": {
   "codemirror_mode": {
    "name": "ipython",
    "version": 3
   },
   "file_extension": ".py",
   "mimetype": "text/x-python",
   "name": "python",
   "nbconvert_exporter": "python",
   "pygments_lexer": "ipython3",
   "version": "3.8.6"
  }
 },
 "nbformat": 4,
 "nbformat_minor": 4
}
